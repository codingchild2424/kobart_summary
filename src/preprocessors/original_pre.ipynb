{
 "cells": [
  {
   "cell_type": "code",
   "execution_count": 1,
   "metadata": {},
   "outputs": [],
   "source": [
    "original_path = \"/workspace/home/uglee/Projects/kobart_summary/datasets/summary\"\n",
    "\n",
    "import os\n",
    "import json\n",
    "from tqdm import tqdm\n",
    "import re\n",
    "\n",
    "pre_data_path = \"/workspace/home/uglee/Projects/kobart_summary/datasets/preprocessed\"\n",
    "\n",
    "for idx in range(6):\n",
    "    original_json_path = os.path.join(original_path, \"original\" + str(idx+1) + \".json\")\n",
    "\n",
    "    # open the json file\n",
    "    with open(original_json_path, \"r\") as f:\n",
    "         # read the json file\n",
    "        json_data = json.load(f)\n",
    "\n",
    "        for json_data_content in json_data[\"documents\"]:\n",
    "            title = json_data_content[\"title\"]\n",
    "            title = title.replace(\"\\t\", \"\")\n",
    "            title = title.replace(\"\\n\", \" \")\n",
    "            # using re title preprocess special character\n",
    "            title = re.sub('[^a-zA-Z0-9ㄱ-힗]', '', title)\n",
    "            # remove space\n",
    "            title = title.replace(\" \", \"\")\n",
    "            # title lenght is over 20, cut the title\n",
    "            if len(title) > 20:\n",
    "                title = title[:20]\n",
    "\n",
    "            content = [ dic[\"sentence\"] for dic in json_data_content[\"text\"][0] ]\n",
    "            content = \" \".join(content)\n",
    "                \n",
    "            # summary_entire\n",
    "            summary = json_data_content[\"abstractive\"][0]\n",
    "\n",
    "            # preprocess\n",
    "            content = content.replace(\"\\t\", \"\")\n",
    "            content = content.replace(\"\\n\", \" \")\n",
    "\n",
    "            summary = summary.replace(\"\\t\", \"\")\n",
    "            summary = summary.replace(\"\\n\", \" \")\n",
    "\n",
    "            content_summary = content + \"\\t\" + summary\n",
    "\n",
    "            tsv_file_name = title + \".tsv\"\n",
    "\n",
    "            tsv_file_path = os.path.join(pre_data_path, tsv_file_name)\n",
    "\n",
    "            # save the tsv file\n",
    "            with open(tsv_file_path, \"w\") as t:\n",
    "                t.write(content_summary)"
   ]
  },
  {
   "cell_type": "code",
   "execution_count": null,
   "metadata": {},
   "outputs": [],
   "source": []
  }
 ],
 "metadata": {
  "kernelspec": {
   "display_name": "Python 3",
   "language": "python",
   "name": "python3"
  },
  "language_info": {
   "codemirror_mode": {
    "name": "ipython",
    "version": 3
   },
   "file_extension": ".py",
   "mimetype": "text/x-python",
   "name": "python",
   "nbconvert_exporter": "python",
   "pygments_lexer": "ipython3",
   "version": "3.8.10"
  },
  "orig_nbformat": 4,
  "vscode": {
   "interpreter": {
    "hash": "31f2aee4e71d21fbe5cf8b01ff0e069b9275f58929596ceb00d14d90e3e16cd6"
   }
  }
 },
 "nbformat": 4,
 "nbformat_minor": 2
}
