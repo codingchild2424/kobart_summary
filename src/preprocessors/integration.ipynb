{
 "cells": [
  {
   "cell_type": "code",
   "execution_count": 1,
   "metadata": {},
   "outputs": [],
   "source": [
    "# train, valid, test\n",
    "\n",
    "# 기존 데이터셋 하나씩 가져오기\n",
    "\n",
    "import os\n",
    "import pandas as pd\n",
    "\n",
    "# 경로\n",
    "pre_data_path = \"/workspace/home/uglee/Projects/kobart_summary/datasets/preprocessed\"\n",
    "\n",
    "integrated_data_path = \"/workspace/home/uglee/Projects/kobart_summary/datasets/integrated_preprocessed\"\n",
    "\n",
    "#lines = []\n",
    "\n",
    "integrated_data_file_path = os.path.join(integrated_data_path, \"integrated_data.tsv\")\n",
    "w = open(integrated_data_file_path, 'w')\n",
    "\n",
    "for idx, file_name in enumerate(os.listdir(pre_data_path)):\n",
    "    file_path = os.path.join(pre_data_path, file_name)\n",
    "\n",
    "    with open(file_path) as f:\n",
    "        line = f.readline()\n",
    "\n",
    "        line = line + '\\n'\n",
    "\n",
    "        w.write(line)\n",
    "\n",
    "w.close()"
   ]
  },
  {
   "cell_type": "code",
   "execution_count": 2,
   "metadata": {},
   "outputs": [],
   "source": [
    "# integrated_data를 가져와서 train_data / valid_data / test_data로 나누기\n",
    "\n",
    "import pandas as pd\n",
    "\n",
    "integrated_data_path = \"/workspace/home/uglee/Projects/kobart_summary/datasets/integrated_preprocessed\"\n",
    "\n",
    "df = pd.read_csv(\n",
    "    os.path.join(integrated_data_path, \"integrated_data.tsv\"), \n",
    "    sep='\\t', \n",
    "    encoding='utf-8', \n",
    "    on_bad_lines='skip'\n",
    "    )\n",
    "\n",
    "# df = df.sample(frac=1).reset_index(drop=True) \n",
    "\n",
    "# df.head()"
   ]
  },
  {
   "cell_type": "code",
   "execution_count": 3,
   "metadata": {},
   "outputs": [
    {
     "data": {
      "text/html": [
       "<div>\n",
       "<style scoped>\n",
       "    .dataframe tbody tr th:only-of-type {\n",
       "        vertical-align: middle;\n",
       "    }\n",
       "\n",
       "    .dataframe tbody tr th {\n",
       "        vertical-align: top;\n",
       "    }\n",
       "\n",
       "    .dataframe thead th {\n",
       "        text-align: right;\n",
       "    }\n",
       "</style>\n",
       "<table border=\"1\" class=\"dataframe\">\n",
       "  <thead>\n",
       "    <tr style=\"text-align: right;\">\n",
       "      <th></th>\n",
       "      <th>국제물품매매계약에 있어서 매도인은 계약에 적합한 물품을 인도하고 관련 서류를 교부 함으로써 물품에 대한 소유권을 매수인에게 이전하게 된다. 따라서 인도하는 계약목적물에 하자가 있는 경우에는 계약법상 매도인의 채무불이행과 하자담보책임이라는 책임체계 가 존재한다. 이러한 책임이 어떠한 관계를 가지고 어떤 역할을 하고 있는지는 계약법상 중요한 문제이며, 국제물품매매계약에서는 어떠한 법리로 전개되어 가고 있는지를 검토하는 것은 글로벌한 상거래시대에 주목할 만한 논제이기도 하다. 이에 대하여 국제통일계약법으로 큰 역할을 하고 있는 국제물품매매계약에 관한 UN 협약(United Nations Convention on Contracts for the International Sale of Goods; 이하 ‘CISG’라 한다)에서는 인도의무와 함께 물품의 하자 및 권리의 하자에 관한 매도인의 의무를 규정하고 있다. 그러나 CISG에서는 영미법에서 사용하고 있는 ‘하자담보(Warranty)’ 라는 표현 대신 ‘물품의 적합성에 관한 매도인의 의무’라는 표현을 쓰고 있으며, 물품이 계약에 적합하지 않은 경우 ‘물품의 적합성 결여(lack of conformity of the goods)’가 된다.</th>\n",
       "      <th>국제물품매매계약에 있어서 매도인은 계약에 적합한 물품을 인도하고 관련 서류를 교부 함으로써 물품에 대한 소유권을 매수인에게 이전하게 된다. 따라서 인도하는 계약목적물에 하자가 있는 경우에는 계약법상 매도인의 채무불이행과 하자담보책임이라는 책임체계 가 존재한다.</th>\n",
       "    </tr>\n",
       "  </thead>\n",
       "  <tbody>\n",
       "    <tr>\n",
       "      <th>0</th>\n",
       "      <td>한 세대와 그 다음 세대를 겹치지 않는 시간 단위로 나눌 수 있는 곤충이나 어류에 ...</td>\n",
       "      <td>본 논문에는 시기적으로 다양하게 제시된 여러 이산적 모델을 고찰하고자 한다.</td>\n",
       "    </tr>\n",
       "    <tr>\n",
       "      <th>1</th>\n",
       "      <td>전국 최대의 기능 장애인의 축제인 '제36회 전국 장애인기능경기대회'가 4일간의 일...</td>\n",
       "      <td>'제36회 전국 장애인기능경기대회'가 4일간의 일정을 끝내고 금메달 42명, 은메달...</td>\n",
       "    </tr>\n",
       "    <tr>\n",
       "      <th>2</th>\n",
       "      <td>북구, 4개 분야 10개 사업 마련 생애주기별 종합 지원체계 구축 지역사회 출산 장...</td>\n",
       "      <td>광주 북구의 저출산 문제 극복 차원에서 조성된 '2019 저출산 극복 계획'은 결혼...</td>\n",
       "    </tr>\n",
       "    <tr>\n",
       "      <th>3</th>\n",
       "      <td>광주일보·광주전남연구원 ‘2040 미래 발전 전략 토론회’</td>\n",
       "      <td>3일 연구원 상생마루에서 광주전남연구원은 '광주전남 2030 미래 발전 전략 토론회...</td>\n",
       "    </tr>\n",
       "    <tr>\n",
       "      <th>4</th>\n",
       "      <td>제주신보 장세영, 서귀포소방서 중문119센터</td>\n",
       "      <td>산업이 발전함에 따라 기후변화에 따른 장마철 집중호우 및 태풍의 피해 등 자연재해가...</td>\n",
       "    </tr>\n",
       "  </tbody>\n",
       "</table>\n",
       "</div>"
      ],
      "text/plain": [
       "  국제물품매매계약에 있어서 매도인은 계약에 적합한 물품을 인도하고 관련 서류를 교부 함으로써 물품에 대한 소유권을 매수인에게 이전하게 된다. 따라서 인도하는 계약목적물에 하자가 있는 경우에는 계약법상 매도인의 채무불이행과 하자담보책임이라는 책임체계 가 존재한다. 이러한 책임이 어떠한 관계를 가지고 어떤 역할을 하고 있는지는 계약법상 중요한 문제이며, 국제물품매매계약에서는 어떠한 법리로 전개되어 가고 있는지를 검토하는 것은 글로벌한 상거래시대에 주목할 만한 논제이기도 하다. 이에 대하여 국제통일계약법으로 큰 역할을 하고 있는 국제물품매매계약에 관한 UN 협약(United Nations Convention on Contracts for the International Sale of Goods; 이하 ‘CISG’라 한다)에서는 인도의무와 함께 물품의 하자 및 권리의 하자에 관한 매도인의 의무를 규정하고 있다. 그러나 CISG에서는 영미법에서 사용하고 있는 ‘하자담보(Warranty)’ 라는 표현 대신 ‘물품의 적합성에 관한 매도인의 의무’라는 표현을 쓰고 있으며, 물품이 계약에 적합하지 않은 경우 ‘물품의 적합성 결여(lack of conformity of the goods)’가 된다.  \\\n",
       "0  한 세대와 그 다음 세대를 겹치지 않는 시간 단위로 나눌 수 있는 곤충이나 어류에 ...                                                                                                                                                                                                                                                                                                                                                                                                                                                                                                                                                                                     \n",
       "1  전국 최대의 기능 장애인의 축제인 '제36회 전국 장애인기능경기대회'가 4일간의 일...                                                                                                                                                                                                                                                                                                                                                                                                                                                                                                                                                                                     \n",
       "2  북구, 4개 분야 10개 사업 마련 생애주기별 종합 지원체계 구축 지역사회 출산 장...                                                                                                                                                                                                                                                                                                                                                                                                                                                                                                                                                                                     \n",
       "3                   광주일보·광주전남연구원 ‘2040 미래 발전 전략 토론회’                                                                                                                                                                                                                                                                                                                                                                                                                                                                                                                                                                                     \n",
       "4                           제주신보 장세영, 서귀포소방서 중문119센터                                                                                                                                                                                                                                                                                                                                                                                                                                                                                                                                                                                     \n",
       "\n",
       "  국제물품매매계약에 있어서 매도인은 계약에 적합한 물품을 인도하고 관련 서류를 교부 함으로써 물품에 대한 소유권을 매수인에게 이전하게 된다. 따라서 인도하는 계약목적물에 하자가 있는 경우에는 계약법상 매도인의 채무불이행과 하자담보책임이라는 책임체계 가 존재한다.  \n",
       "0         본 논문에는 시기적으로 다양하게 제시된 여러 이산적 모델을 고찰하고자 한다.                                                                                                 \n",
       "1  '제36회 전국 장애인기능경기대회'가 4일간의 일정을 끝내고 금메달 42명, 은메달...                                                                                                 \n",
       "2  광주 북구의 저출산 문제 극복 차원에서 조성된 '2019 저출산 극복 계획'은 결혼...                                                                                                 \n",
       "3  3일 연구원 상생마루에서 광주전남연구원은 '광주전남 2030 미래 발전 전략 토론회...                                                                                                 \n",
       "4  산업이 발전함에 따라 기후변화에 따른 장마철 집중호우 및 태풍의 피해 등 자연재해가...                                                                                                 "
      ]
     },
     "execution_count": 3,
     "metadata": {},
     "output_type": "execute_result"
    }
   ],
   "source": [
    "df = df.sample(frac=1).reset_index(drop=True) \n",
    "\n",
    "df.head()"
   ]
  },
  {
   "cell_type": "code",
   "execution_count": 4,
   "metadata": {},
   "outputs": [],
   "source": [
    "df.columns = ['content', 'title']"
   ]
  },
  {
   "cell_type": "code",
   "execution_count": 5,
   "metadata": {},
   "outputs": [],
   "source": [
    "df = df.dropna()"
   ]
  },
  {
   "cell_type": "code",
   "execution_count": 6,
   "metadata": {},
   "outputs": [
    {
     "data": {
      "text/html": [
       "<div>\n",
       "<style scoped>\n",
       "    .dataframe tbody tr th:only-of-type {\n",
       "        vertical-align: middle;\n",
       "    }\n",
       "\n",
       "    .dataframe tbody tr th {\n",
       "        vertical-align: top;\n",
       "    }\n",
       "\n",
       "    .dataframe thead th {\n",
       "        text-align: right;\n",
       "    }\n",
       "</style>\n",
       "<table border=\"1\" class=\"dataframe\">\n",
       "  <thead>\n",
       "    <tr style=\"text-align: right;\">\n",
       "      <th></th>\n",
       "      <th>content</th>\n",
       "      <th>title</th>\n",
       "    </tr>\n",
       "  </thead>\n",
       "  <tbody>\n",
       "    <tr>\n",
       "      <th>0</th>\n",
       "      <td>한 세대와 그 다음 세대를 겹치지 않는 시간 단위로 나눌 수 있는 곤충이나 어류에 ...</td>\n",
       "      <td>본 논문에는 시기적으로 다양하게 제시된 여러 이산적 모델을 고찰하고자 한다.</td>\n",
       "    </tr>\n",
       "    <tr>\n",
       "      <th>1</th>\n",
       "      <td>전국 최대의 기능 장애인의 축제인 '제36회 전국 장애인기능경기대회'가 4일간의 일...</td>\n",
       "      <td>'제36회 전국 장애인기능경기대회'가 4일간의 일정을 끝내고 금메달 42명, 은메달...</td>\n",
       "    </tr>\n",
       "    <tr>\n",
       "      <th>2</th>\n",
       "      <td>북구, 4개 분야 10개 사업 마련 생애주기별 종합 지원체계 구축 지역사회 출산 장...</td>\n",
       "      <td>광주 북구의 저출산 문제 극복 차원에서 조성된 '2019 저출산 극복 계획'은 결혼...</td>\n",
       "    </tr>\n",
       "    <tr>\n",
       "      <th>3</th>\n",
       "      <td>광주일보·광주전남연구원 ‘2040 미래 발전 전략 토론회’</td>\n",
       "      <td>3일 연구원 상생마루에서 광주전남연구원은 '광주전남 2030 미래 발전 전략 토론회...</td>\n",
       "    </tr>\n",
       "    <tr>\n",
       "      <th>4</th>\n",
       "      <td>제주신보 장세영, 서귀포소방서 중문119센터</td>\n",
       "      <td>산업이 발전함에 따라 기후변화에 따른 장마철 집중호우 및 태풍의 피해 등 자연재해가...</td>\n",
       "    </tr>\n",
       "  </tbody>\n",
       "</table>\n",
       "</div>"
      ],
      "text/plain": [
       "                                             content  \\\n",
       "0  한 세대와 그 다음 세대를 겹치지 않는 시간 단위로 나눌 수 있는 곤충이나 어류에 ...   \n",
       "1  전국 최대의 기능 장애인의 축제인 '제36회 전국 장애인기능경기대회'가 4일간의 일...   \n",
       "2  북구, 4개 분야 10개 사업 마련 생애주기별 종합 지원체계 구축 지역사회 출산 장...   \n",
       "3                   광주일보·광주전남연구원 ‘2040 미래 발전 전략 토론회’   \n",
       "4                           제주신보 장세영, 서귀포소방서 중문119센터   \n",
       "\n",
       "                                               title  \n",
       "0         본 논문에는 시기적으로 다양하게 제시된 여러 이산적 모델을 고찰하고자 한다.  \n",
       "1  '제36회 전국 장애인기능경기대회'가 4일간의 일정을 끝내고 금메달 42명, 은메달...  \n",
       "2  광주 북구의 저출산 문제 극복 차원에서 조성된 '2019 저출산 극복 계획'은 결혼...  \n",
       "3  3일 연구원 상생마루에서 광주전남연구원은 '광주전남 2030 미래 발전 전략 토론회...  \n",
       "4  산업이 발전함에 따라 기후변화에 따른 장마철 집중호우 및 태풍의 피해 등 자연재해가...  "
      ]
     },
     "execution_count": 6,
     "metadata": {},
     "output_type": "execute_result"
    }
   ],
   "source": [
    "df.head()"
   ]
  },
  {
   "cell_type": "code",
   "execution_count": 7,
   "metadata": {},
   "outputs": [],
   "source": [
    "df['title'] = df[\"title\"].str.replace(pat=r'[^\\w]', repl=r' ', regex=True)\n",
    "df['content'] = df[\"content\"].str.replace(pat=r'[^\\w]', repl=r' ', regex=True)"
   ]
  },
  {
   "cell_type": "code",
   "execution_count": 8,
   "metadata": {},
   "outputs": [],
   "source": [
    "# train_ratio = .7\n",
    "# valid_ratio = .1\n",
    "# test_ratio = .2\n",
    "\n",
    "# train_data_num = int(df.shape[0] * train_ratio)\n",
    "# valid_ratio_num = int(df.shape[0] * valid_ratio)\n",
    "# test_ratio_num = int(df.shape[0] * test_ratio)\n",
    "\n",
    "\n",
    "train_data_num = 7000\n",
    "valid_ratio_num = 2000\n",
    "test_ratio_num = 1000"
   ]
  },
  {
   "cell_type": "code",
   "execution_count": 9,
   "metadata": {},
   "outputs": [],
   "source": [
    "# train_df = df.iloc[:train_data_num, :]\n",
    "# valid_df = df.iloc[train_data_num:train_data_num+valid_ratio_num, :]\n",
    "# test_df = df.iloc[train_data_num+valid_ratio_num:, :]\n",
    "\n",
    "train_df = df.iloc[:train_data_num, :]\n",
    "valid_df = df.iloc[train_data_num:train_data_num+valid_ratio_num, :]\n",
    "test_df = df.iloc[train_data_num+valid_ratio_num:train_data_num+valid_ratio_num+test_ratio_num, :]"
   ]
  },
  {
   "cell_type": "code",
   "execution_count": 10,
   "metadata": {},
   "outputs": [
    {
     "data": {
      "text/html": [
       "<div>\n",
       "<style scoped>\n",
       "    .dataframe tbody tr th:only-of-type {\n",
       "        vertical-align: middle;\n",
       "    }\n",
       "\n",
       "    .dataframe tbody tr th {\n",
       "        vertical-align: top;\n",
       "    }\n",
       "\n",
       "    .dataframe thead th {\n",
       "        text-align: right;\n",
       "    }\n",
       "</style>\n",
       "<table border=\"1\" class=\"dataframe\">\n",
       "  <thead>\n",
       "    <tr style=\"text-align: right;\">\n",
       "      <th></th>\n",
       "      <th>content</th>\n",
       "      <th>title</th>\n",
       "    </tr>\n",
       "  </thead>\n",
       "  <tbody>\n",
       "    <tr>\n",
       "      <th>0</th>\n",
       "      <td>한 세대와 그 다음 세대를 겹치지 않는 시간 단위로 나눌 수 있는 곤충이나 어류에 ...</td>\n",
       "      <td>본 논문에는 시기적으로 다양하게 제시된 여러 이산적 모델을 고찰하고자 한다</td>\n",
       "    </tr>\n",
       "  </tbody>\n",
       "</table>\n",
       "</div>"
      ],
      "text/plain": [
       "                                             content  \\\n",
       "0  한 세대와 그 다음 세대를 겹치지 않는 시간 단위로 나눌 수 있는 곤충이나 어류에 ...   \n",
       "\n",
       "                                        title  \n",
       "0  본 논문에는 시기적으로 다양하게 제시된 여러 이산적 모델을 고찰하고자 한다   "
      ]
     },
     "execution_count": 10,
     "metadata": {},
     "output_type": "execute_result"
    }
   ],
   "source": [
    "train_df.head(1)"
   ]
  },
  {
   "cell_type": "code",
   "execution_count": 11,
   "metadata": {},
   "outputs": [
    {
     "data": {
      "text/plain": [
       "(7000, 2)"
      ]
     },
     "execution_count": 11,
     "metadata": {},
     "output_type": "execute_result"
    }
   ],
   "source": [
    "train_df.shape"
   ]
  },
  {
   "cell_type": "code",
   "execution_count": 12,
   "metadata": {},
   "outputs": [],
   "source": [
    "train_df.to_csv(\n",
    "    os.path.join(integrated_data_path, \"train_data.tsv\"), \n",
    "    sep= '\\t',\n",
    "    header=False,\n",
    "    index=False,\n",
    "    encoding='utf-8'\n",
    "    )\n",
    "    "
   ]
  },
  {
   "cell_type": "code",
   "execution_count": 13,
   "metadata": {},
   "outputs": [],
   "source": [
    "valid_df.to_csv(\n",
    "    os.path.join(integrated_data_path, \"valid_data.tsv\"), \n",
    "    sep= '\\t',\n",
    "    header=False,\n",
    "    index=False,\n",
    "    encoding='utf-8'\n",
    "    )"
   ]
  },
  {
   "cell_type": "code",
   "execution_count": 14,
   "metadata": {},
   "outputs": [],
   "source": [
    "test_df.to_csv(\n",
    "    os.path.join(integrated_data_path, \"test_data.tsv\"), \n",
    "    sep= '\\t',\n",
    "    header=False,\n",
    "    index=False,\n",
    "    encoding='utf-8'\n",
    "    )"
   ]
  },
  {
   "cell_type": "code",
   "execution_count": null,
   "metadata": {},
   "outputs": [],
   "source": []
  },
  {
   "cell_type": "code",
   "execution_count": null,
   "metadata": {},
   "outputs": [],
   "source": []
  }
 ],
 "metadata": {
  "kernelspec": {
   "display_name": "Python 3",
   "language": "python",
   "name": "python3"
  },
  "language_info": {
   "codemirror_mode": {
    "name": "ipython",
    "version": 3
   },
   "file_extension": ".py",
   "mimetype": "text/x-python",
   "name": "python",
   "nbconvert_exporter": "python",
   "pygments_lexer": "ipython3",
   "version": "3.8.10"
  },
  "orig_nbformat": 4,
  "vscode": {
   "interpreter": {
    "hash": "31f2aee4e71d21fbe5cf8b01ff0e069b9275f58929596ceb00d14d90e3e16cd6"
   }
  }
 },
 "nbformat": 4,
 "nbformat_minor": 2
}
