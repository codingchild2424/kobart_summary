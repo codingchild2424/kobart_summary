{
 "cells": [
  {
   "attachments": {},
   "cell_type": "markdown",
   "metadata": {},
   "source": [
    "# journal"
   ]
  },
  {
   "cell_type": "code",
   "execution_count": 1,
   "metadata": {},
   "outputs": [],
   "source": [
    "journal_path1 = \"/workspace/home/uglee/Projects/kobart_summary/datasets/summary/journal1\"\n",
    "journal_path2 = \"/workspace/home/uglee/Projects/kobart_summary/datasets/summary/journal2\"\n",
    "\n",
    "import os\n",
    "import json\n",
    "from tqdm import tqdm\n",
    "import re\n",
    "\n",
    "pre_data_path = \"/workspace/home/uglee/Projects/kobart_summary/datasets/preprocessed\"\n",
    "\n",
    "for data_path in [journal_path1, journal_path2]:\n",
    "    for json_file_name in os.listdir(data_path):\n",
    "        # folder path\n",
    "        json_file_path = os.path.join(data_path, json_file_name)\n",
    "\n",
    "        # open the json file\n",
    "        with open(json_file_path, \"r\") as f:\n",
    "            # read the json file\n",
    "            data = json.load(f)\n",
    "\n",
    "\n",
    "            for json_data in data[\"data\"]:\n",
    "                \n",
    "                title = json_data['title']\n",
    "                title = title.replace(\"\\t\", \"\")\n",
    "                title = title.replace(\"\\n\", \" \")\n",
    "                # using re title preprocess special character\n",
    "                title = re.sub('[^a-zA-Z0-9ㄱ-힗]', '', title)\n",
    "                # remove space\n",
    "                title = title.replace(\" \", \"\")\n",
    "                # title lenght is over 20, cut the title\n",
    "                if len(title) > 20:\n",
    "                    title = title[:20]\n",
    "                    \n",
    "                # summary_entire\n",
    "                content1 = json_data['summary_entire'][0][\"orginal_text\"]\n",
    "                summary1 = json_data[\"summary_entire\"][0][\"summary_text\"]\n",
    "\n",
    "                # preprocess\n",
    "                content1 = content1.replace(\"\\t\", \"\")\n",
    "                content1 = content1.replace(\"\\n\", \" \")\n",
    "\n",
    "                summary1 = summary1.replace(\"\\t\", \"\")\n",
    "                summary1 = summary1.replace(\"\\n\", \" \")\n",
    "\n",
    "                content_summary1 = content1 + \"\\t\" + summary1\n",
    "\n",
    "                tsv_file_name1 = title + \"1\" + \".tsv\"\n",
    "\n",
    "                tsv_file_path1 = os.path.join(pre_data_path, tsv_file_name1)\n",
    "\n",
    "                # save the tsv file\n",
    "                with open(tsv_file_path1, \"w\") as t1:\n",
    "                    t1.write(content_summary1)\n",
    "\n",
    "\n",
    "                # summary_section\n",
    "                content2 = json_data['summary_section'][0][\"orginal_text\"]\n",
    "                summary2 = json_data[\"summary_section\"][0][\"summary_text\"]\n",
    "\n",
    "                # preprocess\n",
    "                content2 = content2.replace(\"\\t\", \"\")\n",
    "                content2 = content2.replace(\"\\n\", \" \")\n",
    "\n",
    "                summary2 = summary2.replace(\"\\t\", \"\")\n",
    "                summary2 = summary2.replace(\"\\n\", \" \")\n",
    "\n",
    "                content_summary2 = content2 + \"\\t\" + summary2\n",
    "\n",
    "                tsv_file_name2 = title + \"2\" + \".tsv\"\n",
    "\n",
    "                tsv_file_path2 = os.path.join(pre_data_path, tsv_file_name2)\n",
    "\n",
    "                # save the tsv file\n",
    "                with open(tsv_file_path2, \"w\") as t2:\n",
    "                    t2.write(content_summary2)\n",
    "\n",
    "                "
   ]
  },
  {
   "cell_type": "code",
   "execution_count": null,
   "metadata": {},
   "outputs": [],
   "source": []
  }
 ],
 "metadata": {
  "kernelspec": {
   "display_name": "Python 3",
   "language": "python",
   "name": "python3"
  },
  "language_info": {
   "codemirror_mode": {
    "name": "ipython",
    "version": 3
   },
   "file_extension": ".py",
   "mimetype": "text/x-python",
   "name": "python",
   "nbconvert_exporter": "python",
   "pygments_lexer": "ipython3",
   "version": "3.8.10"
  },
  "orig_nbformat": 4,
  "vscode": {
   "interpreter": {
    "hash": "31f2aee4e71d21fbe5cf8b01ff0e069b9275f58929596ceb00d14d90e3e16cd6"
   }
  }
 },
 "nbformat": 4,
 "nbformat_minor": 2
}
