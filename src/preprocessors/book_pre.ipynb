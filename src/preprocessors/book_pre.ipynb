{
 "cells": [
  {
   "attachments": {},
   "cell_type": "markdown",
   "metadata": {},
   "source": [
    "# book"
   ]
  },
  {
   "cell_type": "code",
   "execution_count": 1,
   "metadata": {},
   "outputs": [
    {
     "ename": "NameError",
     "evalue": "name 'book1_data_path' is not defined",
     "output_type": "error",
     "traceback": [
      "\u001b[0;31m---------------------------------------------------------------------------\u001b[0m",
      "\u001b[0;31mNameError\u001b[0m                                 Traceback (most recent call last)",
      "\u001b[1;32m/workspace/home/uglee/Projects/kobart_summary/src/preprocessors/summary_pre.ipynb Cell 4\u001b[0m in \u001b[0;36m<cell line: 8>\u001b[0;34m()\u001b[0m\n\u001b[1;32m      <a href='vscode-notebook-cell://attached-container%2B7b22636f6e7461696e65724e616d65223a222f7079746f7263685f646576222c2273657474696e6773223a7b22686f7374223a227373683a2f2f7562756e7475227d7d/workspace/home/uglee/Projects/kobart_summary/src/preprocessors/summary_pre.ipynb#W2sdnNjb2RlLXJlbW90ZQ%3D%3D?line=3'>4</a>\u001b[0m \u001b[39mimport\u001b[39;00m \u001b[39mre\u001b[39;00m\n\u001b[1;32m      <a href='vscode-notebook-cell://attached-container%2B7b22636f6e7461696e65724e616d65223a222f7079746f7263685f646576222c2273657474696e6773223a7b22686f7374223a227373683a2f2f7562756e7475227d7d/workspace/home/uglee/Projects/kobart_summary/src/preprocessors/summary_pre.ipynb#W2sdnNjb2RlLXJlbW90ZQ%3D%3D?line=5'>6</a>\u001b[0m pre_data_path \u001b[39m=\u001b[39m \u001b[39m\"\u001b[39m\u001b[39m/workspace/home/uglee/Projects/kobart_summary/datasets/preprocessed\u001b[39m\u001b[39m\"\u001b[39m\n\u001b[0;32m----> <a href='vscode-notebook-cell://attached-container%2B7b22636f6e7461696e65724e616d65223a222f7079746f7263685f646576222c2273657474696e6773223a7b22686f7374223a227373683a2f2f7562756e7475227d7d/workspace/home/uglee/Projects/kobart_summary/src/preprocessors/summary_pre.ipynb#W2sdnNjb2RlLXJlbW90ZQ%3D%3D?line=7'>8</a>\u001b[0m \u001b[39mfor\u001b[39;00m data_path \u001b[39min\u001b[39;00m [book1_data_path, book2_data_path]:\n\u001b[1;32m      <a href='vscode-notebook-cell://attached-container%2B7b22636f6e7461696e65724e616d65223a222f7079746f7263685f646576222c2273657474696e6773223a7b22686f7374223a227373683a2f2f7562756e7475227d7d/workspace/home/uglee/Projects/kobart_summary/src/preprocessors/summary_pre.ipynb#W2sdnNjb2RlLXJlbW90ZQ%3D%3D?line=8'>9</a>\u001b[0m     \u001b[39mfor\u001b[39;00m folder \u001b[39min\u001b[39;00m os\u001b[39m.\u001b[39mlistdir(data_path):\n\u001b[1;32m     <a href='vscode-notebook-cell://attached-container%2B7b22636f6e7461696e65724e616d65223a222f7079746f7263685f646576222c2273657474696e6773223a7b22686f7374223a227373683a2f2f7562756e7475227d7d/workspace/home/uglee/Projects/kobart_summary/src/preprocessors/summary_pre.ipynb#W2sdnNjb2RlLXJlbW90ZQ%3D%3D?line=9'>10</a>\u001b[0m         \u001b[39m# folder path\u001b[39;00m\n\u001b[1;32m     <a href='vscode-notebook-cell://attached-container%2B7b22636f6e7461696e65724e616d65223a222f7079746f7263685f646576222c2273657474696e6773223a7b22686f7374223a227373683a2f2f7562756e7475227d7d/workspace/home/uglee/Projects/kobart_summary/src/preprocessors/summary_pre.ipynb#W2sdnNjb2RlLXJlbW90ZQ%3D%3D?line=10'>11</a>\u001b[0m         folder_path \u001b[39m=\u001b[39m os\u001b[39m.\u001b[39mpath\u001b[39m.\u001b[39mjoin(data_path, folder)\n",
      "\u001b[0;31mNameError\u001b[0m: name 'book1_data_path' is not defined"
     ]
    }
   ],
   "source": [
    "book1_data_path = \"/workspace/home/uglee/Projects/kobart_summary/datasets/summary/book1\"\n",
    "book2_data_path = \"/workspace/home/uglee/Projects/kobart_summary/datasets/summary/book2\"\n",
    "\n",
    "import os\n",
    "import json\n",
    "from tqdm import tqdm\n",
    "import re\n",
    "\n",
    "pre_data_path = \"/workspace/home/uglee/Projects/kobart_summary/datasets/preprocessed\"\n",
    "\n",
    "for data_path in [book1_data_path, book2_data_path]:\n",
    "    for folder in os.listdir(data_path):\n",
    "        # folder path\n",
    "        folder_path = os.path.join(data_path, folder)\n",
    "        # file list in folder\n",
    "        file_list = os.listdir(folder_path)\n",
    "        # file path list\n",
    "        file_path_list = [os.path.join(folder_path, file) for file in file_list]\n",
    "\n",
    "        for file_path in tqdm(file_path_list):\n",
    "            print(file_path)\n",
    "\n",
    "            # open the json file\n",
    "            with open(file_path, \"r\") as f:\n",
    "                # read the json file\n",
    "                data = json.load(f)\n",
    "\n",
    "                title = data[\"metadata\"][\"doc_name\"]\n",
    "                title = title.replace(\"\\t\", \"\")\n",
    "                title = title.replace(\"\\n\", \" \")\n",
    "                # using re title preprocess special character\n",
    "                title = re.sub('[^a-zA-Z0-9ㄱ-힗]', '', title)\n",
    "                # remove space\n",
    "                title = title.replace(\" \", \"\")\n",
    "                # title lenght is over 20, cut the title\n",
    "                if len(title) > 20:\n",
    "                    title = title[:20]\n",
    "                \n",
    "                content = data[\"passage\"]\n",
    "                summary = data[\"summary\"]\n",
    "\n",
    "                # preprocess\n",
    "                content = content.replace(\"\\t\", \"\")\n",
    "                content = content.replace(\"\\n\", \" \")\n",
    "\n",
    "                summary = summary.replace(\"\\t\", \"\")\n",
    "                summary = summary.replace(\"\\n\", \" \")\n",
    "\n",
    "                content_summary = content + \"\\t\" + summary\n",
    "\n",
    "                tsv_file_name = title + \".tsv\"\n",
    "\n",
    "                tsv_file_path = os.path.join(pre_data_path, tsv_file_name)\n",
    "\n",
    "                # save the tsv file\n",
    "                with open(tsv_file_path, \"w\") as t:\n",
    "                    t.write(content_summary)"
   ]
  }
 ],
 "metadata": {
  "kernelspec": {
   "display_name": "Python 3",
   "language": "python",
   "name": "python3"
  },
  "language_info": {
   "codemirror_mode": {
    "name": "ipython",
    "version": 3
   },
   "file_extension": ".py",
   "mimetype": "text/x-python",
   "name": "python",
   "nbconvert_exporter": "python",
   "pygments_lexer": "ipython3",
   "version": "3.8.10 (default, Mar 15 2022, 12:22:08) \n[GCC 9.4.0]"
  },
  "orig_nbformat": 4,
  "vscode": {
   "interpreter": {
    "hash": "31f2aee4e71d21fbe5cf8b01ff0e069b9275f58929596ceb00d14d90e3e16cd6"
   }
  }
 },
 "nbformat": 4,
 "nbformat_minor": 2
}
